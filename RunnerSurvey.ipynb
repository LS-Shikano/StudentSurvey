{
 "cells": [
  {
   "cell_type": "code",
   "execution_count": 2,
   "metadata": {},
   "outputs": [
    {
     "name": "stdout",
     "output_type": "stream",
     "text": [
      "Open your browser to http://localhost:8000/\n",
      "To quit the server, press Control+C.\n",
      "\n",
      "^C\n"
     ]
    }
   ],
   "source": [
    "!otree devserver"
   ]
  }
 ],
 "metadata": {
  "kernelspec": {
   "display_name": "Codevault",
   "language": "python",
   "name": "python3"
  },
  "language_info": {
   "codemirror_mode": {
    "name": "ipython",
    "version": 3
   },
   "file_extension": ".py",
   "mimetype": "text/x-python",
   "name": "python",
   "nbconvert_exporter": "python",
   "pygments_lexer": "ipython3",
   "version": "3.13.0"
  }
 },
 "nbformat": 4,
 "nbformat_minor": 2
}
