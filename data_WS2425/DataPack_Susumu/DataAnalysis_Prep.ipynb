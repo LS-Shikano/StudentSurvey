{
 "cells": [
  {
   "cell_type": "markdown",
   "metadata": {},
   "source": [
    "## Data Summary for Student Survey\n",
    "\n",
    "[->Link to Codebook<-](https://docs.google.com/spreadsheets/d/18IHM1UxofGLepFGYCxdTPjGb8OH7ijN7H58fSJNLitI/edit?pli=1&gid=0#gid=0)\n",
    "\n",
    "### Notation for Network Analysis: \n",
    "\n",
    "### General Information for Data:\n",
    "- Missing Values: `-999` \n",
    "- Primary key: `participant.label` with the unique three letter code for participants, that was supposed to be kept between waves"
   ]
  },
  {
   "cell_type": "code",
   "execution_count": 1,
   "metadata": {},
   "outputs": [],
   "source": [
    "## Packages for General Analysis \n",
    "\n",
    "import pandas as pd\n",
    "import numpy as np\n",
    "import matplotlib.pyplot as plt\n",
    "\n",
    "## Packages for Network Analysis\n",
    "\n",
    "import networkx as nx #this is the easiest to use network analysis package for python, it basically holds all the functions you need\n",
    "#import igraph as ig #this is basically the R package igraph imported to python so you might feel at home with it\n",
    "#import graph_tool as gt #this is an alternative package that holds some additional functionalities but is not needed, its also really fast"
   ]
  },
  {
   "cell_type": "markdown",
   "metadata": {},
   "source": [
    "#### Data Tables \n",
    "- Note: here we are keeping all observations that provided a legal ID-code, in each wave\n",
    "- W1 (n=180), W2(n=180), W3(n=170)"
   ]
  },
  {
   "cell_type": "code",
   "execution_count": 2,
   "metadata": {},
   "outputs": [],
   "source": [
    "# Tables from processing \n",
    "df_w1 = pd.read_csv('../Cooked/df_w1_prepared.csv')\n",
    "df_w2 = pd.read_csv('../Cooked/df_w2_prepared.csv') \n",
    "df_w3 = pd.read_csv('../Cooked/df_w3_prepared.csv')"
   ]
  },
  {
   "cell_type": "markdown",
   "metadata": {},
   "source": [
    "#### Network Analysis \n",
    "- Note: we are only keeping the people who were present in all waves for the .gml files (n=153)"
   ]
  },
  {
   "cell_type": "code",
   "execution_count": 3,
   "metadata": {},
   "outputs": [],
   "source": [
    "# Network Data in gml form, the graph is basically multiplex network\n",
    "# all relations are in one graph and the type stored in edge attributes\n",
    "G_1 = nx.read_gml(\"../NA/multiplex_graph_w1.gml\")\n",
    "G_2 = nx.read_gml(\"../NA/multiplex_graph_w2.gml\")\n",
    "G_3 = nx.read_gml(\"../NA/multiplex_graph_w3.gml\")"
   ]
  },
  {
   "cell_type": "markdown",
   "metadata": {},
   "source": [
    "##### Examples of how top access data"
   ]
  },
  {
   "cell_type": "code",
   "execution_count": 48,
   "metadata": {},
   "outputs": [
    {
     "data": {
      "text/plain": [
       "[('kru',\n",
       "  {'browser': 3.0,\n",
       "   'device_type': 3.0,\n",
       "   'lang': 0.0,\n",
       "   'operating_system': 2.0,\n",
       "   'use_of_device': 1.0,\n",
       "   'age': 22.0,\n",
       "   'edu_father': 1.0,\n",
       "   'edu_mother': 1.0,\n",
       "   'gender': 1.0,\n",
       "   'grade': -999.0,\n",
       "   'ocu_father': 1.0,\n",
       "   'ocu_mother': 1.0,\n",
       "   'postcode': 88.0,\n",
       "   'tutorial': 6.0,\n",
       "   'linksrechts_self': 0.0,\n",
       "   'lr_AfD': 11.0,\n",
       "   'lr_BSW': 8.0,\n",
       "   'lr_CDU': 6.0,\n",
       "   'lr_CSU': 6.0,\n",
       "   'lr_FDP': 3.0,\n",
       "   'lr_Gruene': 4.0,\n",
       "   'lr_Linke': 3.0,\n",
       "   'lr_SPD': 5.0,\n",
       "   'noteligible_sunday_party_vote': 0.0,\n",
       "   'politics_question_five': 2.0,\n",
       "   'politics_question_four': 2.0,\n",
       "   'politics_question_one': 4.0,\n",
       "   'politics_question_seven': 4.0,\n",
       "   'politics_question_six': 4.0,\n",
       "   'politics_question_three': 4.0,\n",
       "   'politics_question_two': 2.0,\n",
       "   'scalo_afd': -5.0,\n",
       "   'scalo_bsw': -3.0,\n",
       "   'scalo_cdu': -1.0,\n",
       "   'scalo_csu': -1.0,\n",
       "   'scalo_fdp': 0.0,\n",
       "   'scalo_gruene': 2.0,\n",
       "   'scalo_linke': 1.0,\n",
       "   'scalo_pep10': -5.0,\n",
       "   'scalo_pep11': -5.0,\n",
       "   'scalo_pep12': 1.0,\n",
       "   'scalo_pep13': 2.0,\n",
       "   'scalo_pep14': -5.0,\n",
       "   'scalo_pep15': -2.0,\n",
       "   'scalo_pep16': -1.0,\n",
       "   'scalo_pep1': 0.0,\n",
       "   'scalo_pep2': 5.0,\n",
       "   'scalo_pep3': 0.0,\n",
       "   'scalo_pep4': 0.0,\n",
       "   'scalo_pep5': -3.0,\n",
       "   'scalo_pep6': 1.0,\n",
       "   'scalo_pep7': -5.0,\n",
       "   'scalo_pep8': 0.0,\n",
       "   'scalo_pep9': 0.0,\n",
       "   'scalo_spd': 0.0,\n",
       "   'sunday_not_eligible': 0.0,\n",
       "   'sunday_party_vote': 3.0,\n",
       "   'sunday_poll': 1.0})]"
      ]
     },
     "execution_count": 48,
     "metadata": {},
     "output_type": "execute_result"
    }
   ],
   "source": [
    "# All variables that are in the datatables are also stored in the node attributes \n",
    "list(G_1.nodes(data=True))[:1]"
   ]
  },
  {
   "cell_type": "code",
   "execution_count": 43,
   "metadata": {},
   "outputs": [
    {
     "data": {
      "text/plain": [
       "[('kru', 'bs3', {'type': 'aquaintance'}),\n",
       " ('kru', 'bs3', {'type': 'leftright', 'weight': 4}),\n",
       " ('kru', 'bs3', {'type': 'friend'}),\n",
       " ('kru', 'k4w', {'type': 'aquaintance'}),\n",
       " ('kru', 'k4w', {'type': 'leftright', 'weight': 4})]"
      ]
     },
     "execution_count": 43,
     "metadata": {},
     "output_type": "execute_result"
    }
   ],
   "source": [
    "list(G_1.edges(data=True))[:5]"
   ]
  },
  {
   "cell_type": "code",
   "execution_count": 51,
   "metadata": {},
   "outputs": [
    {
     "name": "stdout",
     "output_type": "stream",
     "text": [
      "[('kru', 'bs3', {'type': 'friend'}), ('bs3', 'kru', {'type': 'friend'}), ('kmw', 'cyw', {'type': 'friend'}), ('b3p', '9he', {'type': 'friend'}), ('b3p', 'kmw', {'type': 'friend'})]\n",
      "336\n"
     ]
    }
   ],
   "source": [
    "# Only show edges where the 'type' attribute is 'friend'\n",
    "filtered_edges = [(u, v, d) for u, v, d in G_1.edges(data=True) if d.get('type') == 'friend']\n",
    "print(filtered_edges[0:5])\n",
    "\n",
    "# Create a Friendship Graph\n",
    "G_friends = nx.DiGraph()  # or nx.DiGraph() if original graph is directed\n",
    "G_friends.add_nodes_from(G_1.nodes(data=True))  # keep node attributes\n",
    "G_friends.add_edges_from(filtered_edges)\n",
    "\n",
    "print(G_friends.number_of_edges())"
   ]
  }
 ],
 "metadata": {
  "kernelspec": {
   "display_name": "py_venv_3.13.0",
   "language": "python",
   "name": "python3"
  },
  "language_info": {
   "codemirror_mode": {
    "name": "ipython",
    "version": 3
   },
   "file_extension": ".py",
   "mimetype": "text/x-python",
   "name": "python",
   "nbconvert_exporter": "python",
   "pygments_lexer": "ipython3",
   "version": "3.13.0"
  }
 },
 "nbformat": 4,
 "nbformat_minor": 2
}
